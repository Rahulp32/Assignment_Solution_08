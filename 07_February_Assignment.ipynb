{
 "cells": [
  {
   "cell_type": "markdown",
   "id": "2e112ddb-caea-4829-b1e0-ba963fe746fa",
   "metadata": {},
   "source": [
    "# Assignment_08_AND_07th_February_Assignment\n",
    "\n",
    "### Q1. You are writing code for a company. \n",
    "###    The requirement of the company is that you create a python function that will check whether the password entered by the user is correct or not. \n",
    "###    The function should take the password as input and return the string “Valid Password” \n",
    "###    if the entered password follows the below-given password guidelines else it should return “Invalid Password”.\n",
    "\n",
    "### Note: \n",
    "### 1. The Password should contain at least two uppercase letters and at least two lowercase letters.\n",
    "### 2. The Password should contain at least a number and three special characters.\n",
    "### 3. The length of the password should be 10 characters long."
   ]
  },
  {
   "cell_type": "markdown",
   "id": "f03b5a95-efee-4c0a-94a6-da606f19fbfd",
   "metadata": {},
   "source": [
    "### Password Validation Function"
   ]
  },
  {
   "cell_type": "code",
   "execution_count": 22,
   "id": "6adfe980-8211-4980-9fd7-26269468c116",
   "metadata": {},
   "outputs": [
    {
     "name": "stdout",
     "output_type": "stream",
     "text": [
      "Valid Password\n"
     ]
    }
   ],
   "source": [
    "def check_password(password):\n",
    "    # Check length\n",
    "    if len(password) < 10:\n",
    "        return \"Invalid Password\"\n",
    "    \n",
    "    # Check uppercase, lowercase, digits, and special characters\n",
    "    upper_count = sum(1 for char in password if char.isupper())\n",
    "    lower_count = sum(1 for char in password if char.islower())\n",
    "    digit_count = sum(1 for char in password if char.isdigit())\n",
    "    special_count = sum(1 for char in password if not char.isalnum())\n",
    "    \n",
    "    # Validate counts\n",
    "    if upper_count >= 2 and lower_count >= 2 and digit_count >= 1 and special_count >= 3:\n",
    "        return \"Valid Password\"\n",
    "    else:\n",
    "        return \"Invalid Password\"\n",
    "\n",
    "# Example usage\n",
    "password = \"AaBb1@#$567\"\n",
    "print(check_password(password))  # Output: Valid Password\n",
    "\n"
   ]
  },
  {
   "cell_type": "markdown",
   "id": "6432ce4e-be8a-40a6-829e-f5620077ad80",
   "metadata": {},
   "source": [
    "### IInd Example:"
   ]
  },
  {
   "cell_type": "code",
   "execution_count": 20,
   "id": "521b169f-49fc-4220-a49b-47a2475debc4",
   "metadata": {},
   "outputs": [
    {
     "name": "stdout",
     "output_type": "stream",
     "text": [
      "Password Validation Result: Valid Password\n"
     ]
    }
   ],
   "source": [
    "# Function to validate a password\n",
    "def validate_password(password):\n",
    "    # Check length requirement\n",
    "    if len(password) < 10:\n",
    "        return \"Invalid Password\"\n",
    "\n",
    "    # Initialize counters for requirements\n",
    "    uppercase_count = 0\n",
    "    lowercase_count = 0\n",
    "    number_count = 0\n",
    "    special_char_count = 0\n",
    "\n",
    "    # Special characters set\n",
    "    special_characters = set(\"!@#$%^&*()-_=+[]{}|;:'\\\",.<>?/`\")\n",
    "\n",
    "    for char in password:\n",
    "        if char.isupper():\n",
    "            uppercase_count += 1\n",
    "        elif char.islower():\n",
    "            lowercase_count += 1\n",
    "        elif char.isdigit():\n",
    "            number_count += 1\n",
    "        elif char in special_characters:\n",
    "            special_char_count += 1\n",
    "\n",
    "    # Validate all conditions\n",
    "    if uppercase_count >= 2 and lowercase_count >= 2 and number_count >= 1 and special_char_count >= 3:\n",
    "        return \"Valid Password\"\n",
    "    else:\n",
    "        return \"Invalid Password\"\n",
    "\n",
    "# Example usage\n",
    "password = \"Aa1!@#$xyzN\"\n",
    "print(\"Password Validation Result:\", validate_password(password))\n"
   ]
  },
  {
   "cell_type": "code",
   "execution_count": null,
   "id": "fa621bd6-e4fa-4d2e-9904-d8cf04204577",
   "metadata": {},
   "outputs": [],
   "source": []
  },
  {
   "cell_type": "markdown",
   "id": "781b7f0f-efbf-47cc-9b5f-68fd240a615d",
   "metadata": {},
   "source": [
    "### Q2. Solve the below-given questions using at least one of the following:\n",
    "### 1. Lambda function\n",
    "### 2. Filter function\n",
    "### 3. Map function\n",
    "### 4. List Comprehension\n",
    "\n",
    "### * Check if the string starts with a particular letterY\n",
    "### * Check if the string is numericY\n",
    "### * Sort a list of tuples having fruit names and their quantity. [(\"mango\",99),(\"orange\",80), (\"grapes\", 1000)]\n",
    "### * Find the squares of numbers from 1 to 10Y\n",
    "### * Find the cube root of numbers from 1 to 10Y\n",
    "### * Check if a given number is evenY\n",
    "### * Filter odd numbers from the given list. [1,2,3,4,5,6,7,8,9,10]\n",
    "### * Sort a list of integers into positive and negative integers lists. [1,2,3,4,5,6,-1,-2,-3,-4,-5,0]"
   ]
  },
  {
   "cell_type": "markdown",
   "id": "465db71a-06e3-4e15-bb46-51f41c4db56e",
   "metadata": {},
   "source": [
    "## Solutions"
   ]
  },
  {
   "cell_type": "markdown",
   "id": "b0fb572e-cef4-4152-9591-dad2402b8c5a",
   "metadata": {},
   "source": [
    "### Check if the string starts with a particular letter"
   ]
  },
  {
   "cell_type": "code",
   "execution_count": 30,
   "id": "544025a7-ec9a-4c33-919b-6e24a232d347",
   "metadata": {},
   "outputs": [
    {
     "name": "stdout",
     "output_type": "stream",
     "text": [
      "True\n",
      "False\n"
     ]
    }
   ],
   "source": [
    "# Using lambda\n",
    "starts_with = lambda string, letter: string.startswith(letter)\n",
    "\n",
    "print(starts_with(\"Python\", \"P\"))  # Output: True\n",
    "print(starts_with(\"Python\", \"A\"))  # Output: False\n"
   ]
  },
  {
   "cell_type": "markdown",
   "id": "27b678f9-b9b3-4073-a932-bf9ef9fb9d01",
   "metadata": {},
   "source": [
    "### Check if the string is numeric"
   ]
  },
  {
   "cell_type": "code",
   "execution_count": 33,
   "id": "68163dad-e812-4a8a-8568-caeec767c3f4",
   "metadata": {},
   "outputs": [
    {
     "name": "stdout",
     "output_type": "stream",
     "text": [
      "True\n",
      "False\n"
     ]
    }
   ],
   "source": [
    "# Using lambda\n",
    "is_numeric = lambda string: string.isnumeric()\n",
    "\n",
    "print(is_numeric(\"12345\"))  # Output: True\n",
    "print(is_numeric(\"123a\"))   # Output: False\n"
   ]
  },
  {
   "cell_type": "markdown",
   "id": "8c572325-3bd4-400a-8128-5a2abb72cc27",
   "metadata": {},
   "source": [
    "### Sort a list of tuples by quantity"
   ]
  },
  {
   "cell_type": "code",
   "execution_count": 36,
   "id": "56a2af8a-5f57-4b5a-937c-936595f29be3",
   "metadata": {},
   "outputs": [
    {
     "name": "stdout",
     "output_type": "stream",
     "text": [
      "[('orange', 80), ('mango', 99), ('grapes', 1000)]\n"
     ]
    }
   ],
   "source": [
    "# Using sorted with lambda\n",
    "fruits = [(\"mango\", 99), (\"orange\", 80), (\"grapes\", 1000)]\n",
    "sorted_fruits = sorted(fruits, key=lambda x: x[1])\n",
    "\n",
    "print(sorted_fruits)  # Output: [('orange', 80), ('mango', 99), ('grapes', 1000)]\n"
   ]
  },
  {
   "cell_type": "markdown",
   "id": "c9cbaaa7-b189-4717-908e-9139bc8c1a9c",
   "metadata": {},
   "source": [
    "### Find the squares of numbers from 1 to 10"
   ]
  },
  {
   "cell_type": "code",
   "execution_count": 39,
   "id": "37836046-5891-4616-8a63-568d4528c33a",
   "metadata": {},
   "outputs": [
    {
     "name": "stdout",
     "output_type": "stream",
     "text": [
      "[1, 4, 9, 16, 25, 36, 49, 64, 81, 100]\n"
     ]
    }
   ],
   "source": [
    "# Using map\n",
    "squares = list(map(lambda x: x**2, range(1, 11)))\n",
    "\n",
    "print(squares)  # Output: [1, 4, 9, 16, 25, 36, 49, 64, 81, 100]\n"
   ]
  },
  {
   "cell_type": "markdown",
   "id": "045590c9-0862-4f27-994c-1b8d9c554ce7",
   "metadata": {},
   "source": [
    "### Find the cube root of numbers from 1 to 10"
   ]
  },
  {
   "cell_type": "code",
   "execution_count": 42,
   "id": "91104187-2802-44d4-ae84-2b9b597323d3",
   "metadata": {},
   "outputs": [
    {
     "name": "stdout",
     "output_type": "stream",
     "text": [
      "[1.0, 1.26, 1.44, 1.59, 1.71, 1.82, 1.91, 2.0, 2.08, 2.15]\n"
     ]
    }
   ],
   "source": [
    "# Using map\n",
    "cube_roots = list(map(lambda x: round(x**(1/3), 2), range(1, 11)))\n",
    "\n",
    "print(cube_roots)  # Output: [1.0, 1.26, 1.44, 1.59, 1.71, 1.82, 1.91, 2.0, 2.08, 2.15]\n"
   ]
  },
  {
   "cell_type": "markdown",
   "id": "8e01da1a-3488-4607-b13a-4506fbfaf834",
   "metadata": {},
   "source": [
    "### Check if a given number is even"
   ]
  },
  {
   "cell_type": "code",
   "execution_count": 45,
   "id": "1520ad06-28e7-4e36-9b4d-2845d88566fd",
   "metadata": {},
   "outputs": [
    {
     "name": "stdout",
     "output_type": "stream",
     "text": [
      "True\n",
      "False\n"
     ]
    }
   ],
   "source": [
    "# Using lambda\n",
    "is_even = lambda x: x % 2 == 0\n",
    "\n",
    "print(is_even(4))  # Output: True\n",
    "print(is_even(5))  # Output: False\n"
   ]
  },
  {
   "cell_type": "markdown",
   "id": "906a3fc2-8778-4715-b6e5-638c4fbd27eb",
   "metadata": {},
   "source": [
    "### Filter odd numbers from the given list"
   ]
  },
  {
   "cell_type": "code",
   "execution_count": 48,
   "id": "ebca9c56-32ca-414e-8fea-3693675c19ac",
   "metadata": {},
   "outputs": [
    {
     "name": "stdout",
     "output_type": "stream",
     "text": [
      "[1, 3, 5, 7, 9]\n"
     ]
    }
   ],
   "source": [
    "# Using filter\n",
    "numbers = [1, 2, 3, 4, 5, 6, 7, 8, 9, 10]\n",
    "odd_numbers = list(filter(lambda x: x % 2 != 0, numbers))\n",
    "\n",
    "print(odd_numbers)  # Output: [1, 3, 5, 7, 9]\n"
   ]
  },
  {
   "cell_type": "markdown",
   "id": "94f8e7c8-fc5c-41b6-a796-e4f7792afa6c",
   "metadata": {},
   "source": [
    "### Sort a list of integers into positive and negative integers lists"
   ]
  },
  {
   "cell_type": "code",
   "execution_count": 51,
   "id": "a96e09c8-a71a-4659-9fc4-18c7050cc915",
   "metadata": {},
   "outputs": [
    {
     "name": "stdout",
     "output_type": "stream",
     "text": [
      "Positive Numbers: [1, 2, 3, 4, 5, 6]\n",
      "Negative Numbers: [-1, -2, -3, -4, -5]\n"
     ]
    }
   ],
   "source": [
    "# Using list comprehension\n",
    "numbers = [1, 2, 3, 4, 5, 6, -1, -2, -3, -4, -5, 0]\n",
    "positive_numbers = [num for num in numbers if num > 0]\n",
    "negative_numbers = [num for num in numbers if num < 0]\n",
    "\n",
    "print(\"Positive Numbers:\", positive_numbers)  # Output: [1, 2, 3, 4, 5, 6]\n",
    "print(\"Negative Numbers:\", negative_numbers)  # Output: [-1, -2, -3, -4, -5]\n"
   ]
  },
  {
   "cell_type": "code",
   "execution_count": null,
   "id": "9cfc17b1-826b-4ed1-8dda-f2d08e7087bc",
   "metadata": {},
   "outputs": [],
   "source": []
  }
 ],
 "metadata": {
  "kernelspec": {
   "display_name": "Python 3 (ipykernel)",
   "language": "python",
   "name": "python3"
  },
  "language_info": {
   "codemirror_mode": {
    "name": "ipython",
    "version": 3
   },
   "file_extension": ".py",
   "mimetype": "text/x-python",
   "name": "python",
   "nbconvert_exporter": "python",
   "pygments_lexer": "ipython3",
   "version": "3.11.7"
  }
 },
 "nbformat": 4,
 "nbformat_minor": 5
}
